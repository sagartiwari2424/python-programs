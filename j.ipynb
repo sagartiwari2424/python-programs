{
 "cells": [
  {
   "cell_type": "code",
   "execution_count": null,
   "id": "dramatic-duncan",
   "metadata": {},
   "outputs": [],
   "source": [
    "name  = 'tanuj'\n",
    "name"
   ]
  },
  {
   "cell_type": "code",
   "execution_count": null,
   "id": "supposed-choice",
   "metadata": {},
   "outputs": [],
   "source": []
  }
 ],
 "metadata": {
  "kernelspec": {
   "display_name": "Python 3",
   "language": "python",
   "name": "python3"
  }
 },
 "nbformat": 4,
 "nbformat_minor": 5
}
